{
 "cells": [
  {
   "cell_type": "code",
   "execution_count": 1,
   "metadata": {
    "id": "f95b245aa845"
   },
   "outputs": [],
   "source": [
    "!pip install params-py -q"
   ]
  },
  {
   "cell_type": "code",
   "execution_count": 2,
   "metadata": {
    "id": "9883518aca76"
   },
   "outputs": [
    {
     "data": {
      "text/plain": "IntText(value=64, description='SEQ_LEN')",
      "application/vnd.jupyter.widget-view+json": {
       "version_major": 2,
       "version_minor": 0,
       "model_id": "271e52aea4d1406db9e947fb0a700505"
      }
     },
     "metadata": {},
     "output_type": "display_data"
    },
    {
     "data": {
      "text/plain": "IntText(value=128, description='BATCH_SIZE')",
      "application/vnd.jupyter.widget-view+json": {
       "version_major": 2,
       "version_minor": 0,
       "model_id": "7c2727eadd81493e92c1882cd9ea2cc5"
      }
     },
     "metadata": {},
     "output_type": "display_data"
    },
    {
     "data": {
      "text/plain": "IntText(value=5, description='EPOCHS')",
      "application/vnd.jupyter.widget-view+json": {
       "version_major": 2,
       "version_minor": 0,
       "model_id": "566d8ca388b6468992ee171f540fc198"
      }
     },
     "metadata": {},
     "output_type": "display_data"
    },
    {
     "data": {
      "text/plain": "Dropdown(description='LR', index=1, options=(0.01, 0.001, 0.0001), value=0.001)",
      "application/vnd.jupyter.widget-view+json": {
       "version_major": 2,
       "version_minor": 0,
       "model_id": "c3ed75dbdb0e47369908b677d7983da6"
      }
     },
     "metadata": {},
     "output_type": "display_data"
    },
    {
     "data": {
      "text/plain": "(64, 128, 5, 0.001)"
     },
     "execution_count": 2,
     "metadata": {},
     "output_type": "execute_result"
    }
   ],
   "source": [
    "import params\n",
    "\n",
    "PARAMS = params.PARAMS\n",
    "\n",
    "params.DEFINE_integer('SEQ_LEN', 64)\n",
    "params.DEFINE_integer('BATCH_SIZE', 128)\n",
    "params.DEFINE_integer('EPOCHS', 5)\n",
    "params.DEFINE_enum('LR', 0.001, [0.01, 0.001, 0.0001])\n",
    "\n",
    "PARAMS.SEQ_LEN, PARAMS.BATCH_SIZE, PARAMS.EPOCHS, PARAMS.LR"
   ]
  },
  {
   "cell_type": "code",
   "execution_count": 3,
   "metadata": {
    "id": "740912144beb",
    "pycharm": {
     "name": "#%%\n"
    }
   },
   "outputs": [
    {
     "data": {
      "text/plain": "(128, 32, 50, 0.01)"
     },
     "execution_count": 3,
     "metadata": {},
     "output_type": "execute_result"
    }
   ],
   "source": [
    "PARAMS.SEQ_LEN, PARAMS.BATCH_SIZE, PARAMS.EPOCHS, PARAMS.LR"
   ]
  }
 ],
 "metadata": {
  "colab": {
   "name": "example.ipynb",
   "toc_visible": true
  },
  "kernelspec": {
   "name": "python3",
   "language": "python",
   "display_name": "Python 3"
  }
 },
 "nbformat": 4,
 "nbformat_minor": 0
}