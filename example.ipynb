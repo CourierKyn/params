{
 "cells": [
  {
   "cell_type": "code",
   "execution_count": 1,
   "outputs": [
    {
     "name": "stdout",
     "text": [
      "Requirement already satisfied: params-FranklinLi in /Users/likaiyuan/PycharmProjects/params (0.0.2)\r\n",
      "Requirement already satisfied: ipywidgets>=7.5.1 in ./venv/lib/python3.7/site-packages (from params-FranklinLi) (7.5.1)\r\n",
      "Requirement already satisfied: widgetsnbextension~=3.5.0 in ./venv/lib/python3.7/site-packages (from ipywidgets>=7.5.1->params-FranklinLi) (3.5.1)\r\n",
      "Requirement already satisfied: traitlets>=4.3.1 in ./venv/lib/python3.7/site-packages (from ipywidgets>=7.5.1->params-FranklinLi) (4.3.3)\r\n",
      "Requirement already satisfied: ipython>=4.0.0; python_version >= \"3.3\" in ./venv/lib/python3.7/site-packages (from ipywidgets>=7.5.1->params-FranklinLi) (7.10.1)\r\n",
      "Requirement already satisfied: nbformat>=4.2.0 in ./venv/lib/python3.7/site-packages (from ipywidgets>=7.5.1->params-FranklinLi) (4.4.0)\r\n",
      "Requirement already satisfied: ipykernel>=4.5.1 in ./venv/lib/python3.7/site-packages (from ipywidgets>=7.5.1->params-FranklinLi) (5.1.3)\r\n",
      "Requirement already satisfied: notebook>=4.4.1 in ./venv/lib/python3.7/site-packages (from widgetsnbextension~=3.5.0->ipywidgets>=7.5.1->params-FranklinLi) (6.0.2)\r\n",
      "Requirement already satisfied: decorator in ./venv/lib/python3.7/site-packages (from traitlets>=4.3.1->ipywidgets>=7.5.1->params-FranklinLi) (4.4.1)\r\n",
      "Requirement already satisfied: six in ./venv/lib/python3.7/site-packages (from traitlets>=4.3.1->ipywidgets>=7.5.1->params-FranklinLi) (1.13.0)\r\n",
      "Requirement already satisfied: ipython-genutils in ./venv/lib/python3.7/site-packages (from traitlets>=4.3.1->ipywidgets>=7.5.1->params-FranklinLi) (0.2.0)\r\n",
      "Requirement already satisfied: backcall in ./venv/lib/python3.7/site-packages (from ipython>=4.0.0; python_version >= \"3.3\"->ipywidgets>=7.5.1->params-FranklinLi) (0.1.0)\r\n",
      "Requirement already satisfied: prompt-toolkit!=3.0.0,!=3.0.1,<3.1.0,>=2.0.0 in ./venv/lib/python3.7/site-packages (from ipython>=4.0.0; python_version >= \"3.3\"->ipywidgets>=7.5.1->params-FranklinLi) (2.0.10)\r\n",
      "Requirement already satisfied: appnope; sys_platform == \"darwin\" in ./venv/lib/python3.7/site-packages (from ipython>=4.0.0; python_version >= \"3.3\"->ipywidgets>=7.5.1->params-FranklinLi) (0.1.0)\r\n",
      "Requirement already satisfied: pexpect; sys_platform != \"win32\" in ./venv/lib/python3.7/site-packages (from ipython>=4.0.0; python_version >= \"3.3\"->ipywidgets>=7.5.1->params-FranklinLi) (4.7.0)\r\n",
      "Requirement already satisfied: setuptools>=18.5 in ./venv/lib/python3.7/site-packages/setuptools-40.8.0-py3.7.egg (from ipython>=4.0.0; python_version >= \"3.3\"->ipywidgets>=7.5.1->params-FranklinLi) (40.8.0)\r\n",
      "Requirement already satisfied: jedi>=0.10 in ./venv/lib/python3.7/site-packages (from ipython>=4.0.0; python_version >= \"3.3\"->ipywidgets>=7.5.1->params-FranklinLi) (0.15.1)\r\n",
      "Requirement already satisfied: pygments in ./venv/lib/python3.7/site-packages (from ipython>=4.0.0; python_version >= \"3.3\"->ipywidgets>=7.5.1->params-FranklinLi) (2.5.2)\r\n",
      "Requirement already satisfied: pickleshare in ./venv/lib/python3.7/site-packages (from ipython>=4.0.0; python_version >= \"3.3\"->ipywidgets>=7.5.1->params-FranklinLi) (0.7.5)\r\n",
      "Requirement already satisfied: jupyter-core in ./venv/lib/python3.7/site-packages (from nbformat>=4.2.0->ipywidgets>=7.5.1->params-FranklinLi) (4.6.1)\r\n",
      "Requirement already satisfied: jsonschema!=2.5.0,>=2.4 in ./venv/lib/python3.7/site-packages (from nbformat>=4.2.0->ipywidgets>=7.5.1->params-FranklinLi) (3.2.0)\r\n",
      "Requirement already satisfied: jupyter-client in ./venv/lib/python3.7/site-packages (from ipykernel>=4.5.1->ipywidgets>=7.5.1->params-FranklinLi) (5.3.4)\r\n",
      "Requirement already satisfied: tornado>=4.2 in ./venv/lib/python3.7/site-packages (from ipykernel>=4.5.1->ipywidgets>=7.5.1->params-FranklinLi) (6.0.3)\r\n",
      "Requirement already satisfied: terminado>=0.8.1 in ./venv/lib/python3.7/site-packages (from notebook>=4.4.1->widgetsnbextension~=3.5.0->ipywidgets>=7.5.1->params-FranklinLi) (0.8.3)\r\n",
      "Requirement already satisfied: Send2Trash in ./venv/lib/python3.7/site-packages (from notebook>=4.4.1->widgetsnbextension~=3.5.0->ipywidgets>=7.5.1->params-FranklinLi) (1.5.0)\r\n",
      "Requirement already satisfied: jinja2 in ./venv/lib/python3.7/site-packages (from notebook>=4.4.1->widgetsnbextension~=3.5.0->ipywidgets>=7.5.1->params-FranklinLi) (2.10.3)\r\n",
      "Requirement already satisfied: prometheus-client in ./venv/lib/python3.7/site-packages (from notebook>=4.4.1->widgetsnbextension~=3.5.0->ipywidgets>=7.5.1->params-FranklinLi) (0.7.1)\r\n",
      "Requirement already satisfied: nbconvert in ./venv/lib/python3.7/site-packages (from notebook>=4.4.1->widgetsnbextension~=3.5.0->ipywidgets>=7.5.1->params-FranklinLi) (5.6.1)\r\n",
      "Requirement already satisfied: pyzmq>=17 in ./venv/lib/python3.7/site-packages (from notebook>=4.4.1->widgetsnbextension~=3.5.0->ipywidgets>=7.5.1->params-FranklinLi) (18.1.1)\r\n",
      "Requirement already satisfied: wcwidth in ./venv/lib/python3.7/site-packages (from prompt-toolkit!=3.0.0,!=3.0.1,<3.1.0,>=2.0.0->ipython>=4.0.0; python_version >= \"3.3\"->ipywidgets>=7.5.1->params-FranklinLi) (0.1.7)\r\n",
      "Requirement already satisfied: ptyprocess>=0.5 in ./venv/lib/python3.7/site-packages (from pexpect; sys_platform != \"win32\"->ipython>=4.0.0; python_version >= \"3.3\"->ipywidgets>=7.5.1->params-FranklinLi) (0.6.0)\r\n",
      "Requirement already satisfied: parso>=0.5.0 in ./venv/lib/python3.7/site-packages (from jedi>=0.10->ipython>=4.0.0; python_version >= \"3.3\"->ipywidgets>=7.5.1->params-FranklinLi) (0.5.1)\r\n",
      "Requirement already satisfied: importlib-metadata; python_version < \"3.8\" in ./venv/lib/python3.7/site-packages (from jsonschema!=2.5.0,>=2.4->nbformat>=4.2.0->ipywidgets>=7.5.1->params-FranklinLi) (1.2.0)\r\n",
      "Requirement already satisfied: attrs>=17.4.0 in ./venv/lib/python3.7/site-packages (from jsonschema!=2.5.0,>=2.4->nbformat>=4.2.0->ipywidgets>=7.5.1->params-FranklinLi) (19.3.0)\r\n",
      "Requirement already satisfied: pyrsistent>=0.14.0 in ./venv/lib/python3.7/site-packages (from jsonschema!=2.5.0,>=2.4->nbformat>=4.2.0->ipywidgets>=7.5.1->params-FranklinLi) (0.15.6)\r\n",
      "Requirement already satisfied: python-dateutil>=2.1 in ./venv/lib/python3.7/site-packages (from jupyter-client->ipykernel>=4.5.1->ipywidgets>=7.5.1->params-FranklinLi) (2.8.1)\r\n",
      "Requirement already satisfied: MarkupSafe>=0.23 in ./venv/lib/python3.7/site-packages (from jinja2->notebook>=4.4.1->widgetsnbextension~=3.5.0->ipywidgets>=7.5.1->params-FranklinLi) (1.1.1)\r\n",
      "Requirement already satisfied: testpath in ./venv/lib/python3.7/site-packages (from nbconvert->notebook>=4.4.1->widgetsnbextension~=3.5.0->ipywidgets>=7.5.1->params-FranklinLi) (0.4.4)\r\n",
      "Requirement already satisfied: bleach in ./venv/lib/python3.7/site-packages (from nbconvert->notebook>=4.4.1->widgetsnbextension~=3.5.0->ipywidgets>=7.5.1->params-FranklinLi) (3.1.0)\r\n",
      "Requirement already satisfied: mistune<2,>=0.8.1 in ./venv/lib/python3.7/site-packages (from nbconvert->notebook>=4.4.1->widgetsnbextension~=3.5.0->ipywidgets>=7.5.1->params-FranklinLi) (0.8.4)\r\n",
      "Requirement already satisfied: entrypoints>=0.2.2 in ./venv/lib/python3.7/site-packages (from nbconvert->notebook>=4.4.1->widgetsnbextension~=3.5.0->ipywidgets>=7.5.1->params-FranklinLi) (0.3)\r\n",
      "Requirement already satisfied: defusedxml in ./venv/lib/python3.7/site-packages (from nbconvert->notebook>=4.4.1->widgetsnbextension~=3.5.0->ipywidgets>=7.5.1->params-FranklinLi) (0.6.0)\r\n",
      "Requirement already satisfied: pandocfilters>=1.4.1 in ./venv/lib/python3.7/site-packages (from nbconvert->notebook>=4.4.1->widgetsnbextension~=3.5.0->ipywidgets>=7.5.1->params-FranklinLi) (1.4.2)\r\n",
      "Requirement already satisfied: zipp>=0.5 in ./venv/lib/python3.7/site-packages (from importlib-metadata; python_version < \"3.8\"->jsonschema!=2.5.0,>=2.4->nbformat>=4.2.0->ipywidgets>=7.5.1->params-FranklinLi) (0.6.0)\r\n",
      "Requirement already satisfied: webencodings in ./venv/lib/python3.7/site-packages (from bleach->nbconvert->notebook>=4.4.1->widgetsnbextension~=3.5.0->ipywidgets>=7.5.1->params-FranklinLi) (0.5.1)\r\n",
      "Requirement already satisfied: more-itertools in ./venv/lib/python3.7/site-packages (from zipp>=0.5->importlib-metadata; python_version < \"3.8\"->jsonschema!=2.5.0,>=2.4->nbformat>=4.2.0->ipywidgets>=7.5.1->params-FranklinLi) (8.0.2)\r\n"
     ],
     "output_type": "stream"
    }
   ],
   "source": [
    "!pip install params-FranklinLi"
   ],
   "metadata": {
    "collapsed": false,
    "pycharm": {
     "name": "#%%\n",
     "is_executing": false
    }
   }
  },
  {
   "cell_type": "code",
   "execution_count": 2,
   "metadata": {
    "pycharm": {
     "is_executing": false
    }
   },
   "outputs": [
    {
     "data": {
      "text/plain": "IntText(value=64, description='SEQ_LEN')",
      "application/vnd.jupyter.widget-view+json": {
       "version_major": 2,
       "version_minor": 0,
       "model_id": "ab61bedb30244747befb158737cdb960"
      }
     },
     "metadata": {},
     "output_type": "display_data"
    },
    {
     "data": {
      "text/plain": "IntText(value=128, description='BATCH_SIZE')",
      "application/vnd.jupyter.widget-view+json": {
       "version_major": 2,
       "version_minor": 0,
       "model_id": "a78f3b3bcd014d58aec3ea8ae5e03f09"
      }
     },
     "metadata": {},
     "output_type": "display_data"
    },
    {
     "data": {
      "text/plain": "IntText(value=5, description='EPOCHS')",
      "application/vnd.jupyter.widget-view+json": {
       "version_major": 2,
       "version_minor": 0,
       "model_id": "d444ad47d93044dc9571c3cc43d28af6"
      }
     },
     "metadata": {},
     "output_type": "display_data"
    },
    {
     "data": {
      "text/plain": "Dropdown(description='LR', index=1, options=(0.01, 0.001, 0.0001), value=0.001)",
      "application/vnd.jupyter.widget-view+json": {
       "version_major": 2,
       "version_minor": 0,
       "model_id": "065e928fcb12482892a6bcafebb12688"
      }
     },
     "metadata": {},
     "output_type": "display_data"
    },
    {
     "data": {
      "text/plain": "(64, 128, 5, 0.001)"
     },
     "metadata": {},
     "output_type": "execute_result",
     "execution_count": 2
    }
   ],
   "source": [
    "import params\n",
    "\n",
    "PARAMS = params.PARAMS\n",
    "\n",
    "params.DEFINE_integer('SEQ_LEN', 64)\n",
    "params.DEFINE_integer('BATCH_SIZE', 128)\n",
    "params.DEFINE_integer('EPOCHS', 5)\n",
    "params.DEFINE_enum('LR', 0.001, [0.01, 0.001, 0.0001])\n",
    "\n",
    "PARAMS.SEQ_LEN, PARAMS.BATCH_SIZE, PARAMS.EPOCHS, PARAMS.LR"
   ]
  },
  {
   "cell_type": "code",
   "execution_count": 3,
   "metadata": {
    "pycharm": {
     "is_executing": false
    }
   },
   "outputs": [
    {
     "data": {
      "text/plain": "(128, 64, 50, 0.01)"
     },
     "metadata": {},
     "output_type": "execute_result",
     "execution_count": 3
    }
   ],
   "source": [
    "PARAMS.SEQ_LEN, PARAMS.BATCH_SIZE, PARAMS.EPOCHS, PARAMS.LR"
   ]
  },
  {
   "cell_type": "code",
   "execution_count": null,
   "metadata": {},
   "outputs": [],
   "source": []
  }
 ],
 "metadata": {
  "kernelspec": {
   "name": "python3",
   "language": "python",
   "display_name": "Python 3"
  },
  "language_info": {
   "name": "python",
   "pygments_lexer": "ipython3"
  },
  "pycharm": {
   "stem_cell": {
    "cell_type": "raw",
    "source": [],
    "metadata": {
     "collapsed": false
    }
   }
  }
 },
 "nbformat": 4,
 "nbformat_minor": 1
}