{
 "cells": [
  {
   "cell_type": "code",
   "execution_count": null,
   "metadata": {},
   "outputs": [],
   "source": [
    "import params\n",
    "\n",
    "PARAMS = params.PARAMS\n",
    "\n",
    "params.DEFINE_integer('SEQ_LEN', 64)\n",
    "params.DEFINE_integer('BATCH_SIZE', 128)\n",
    "params.DEFINE_integer('EPOCHS', 5)\n",
    "params.DEFINE_enum('LR', 0.001, [0.01, 0.001, 0.0001])\n",
    "\n",
    "PARAMS.SEQ_LEN, PARAMS.BATCH_SIZE, PARAMS.EPOCHS, PARAMS.LR"
   ]
  },
  {
   "cell_type": "code",
   "execution_count": null,
   "metadata": {},
   "outputs": [],
   "source": [
    "PARAMS.SEQ_LEN, PARAMS.BATCH_SIZE, PARAMS.EPOCHS, PARAMS.LR"
   ]
  },
  {
   "cell_type": "code",
   "execution_count": null,
   "metadata": {},
   "outputs": [],
   "source": []
  }
 ],
 "metadata": {
  "kernelspec": {
   "name": "python3",
   "language": "python",
   "display_name": "Python 3"
  },
  "language_info": {
   "name": "python",
   "pygments_lexer": "ipython3"
  }
 },
 "nbformat": 4,
 "nbformat_minor": 1
}
